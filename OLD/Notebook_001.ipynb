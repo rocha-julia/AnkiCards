{
 "cells": [
  {
   "cell_type": "code",
   "execution_count": 26,
   "metadata": {},
   "outputs": [],
   "source": [
    "import os\n",
    "import csv\n",
    "\n",
    "from mutagen.easyid3 import EasyID3\n",
    "from mutagen.mp3 import MP3\n",
    "from mutagen.flac import FLAC\n",
    "\n",
    "from translate import Translator"
   ]
  },
  {
   "cell_type": "code",
   "execution_count": 39,
   "metadata": {},
   "outputs": [],
   "source": [
    "lessons_list = input('Please, provide the lesson numbers separated by a comma >>').split(',')"
   ]
  },
  {
   "cell_type": "code",
   "execution_count": 40,
   "metadata": {},
   "outputs": [
    {
     "data": {
      "text/plain": [
       "['1', '2', '3', '4']"
      ]
     },
     "execution_count": 40,
     "metadata": {},
     "output_type": "execute_result"
    }
   ],
   "source": [
    "lessons_str"
   ]
  },
  {
   "cell_type": "code",
   "execution_count": 27,
   "metadata": {},
   "outputs": [],
   "source": [
    "def write_csv(card_frontside, card_backside, csv_file):\n",
    "\n",
    "    if not os.path.isfile('./'+csv_file):\n",
    "        with open(csv_file, 'w', newline='') as file:\n",
    "            writer = csv.writer(file)\n",
    "        \n",
    "            writer.writerow([card_frontside, card_backside])\n",
    "    else:\n",
    "        # Write new cards into csv\n",
    "        with open(csv_file, 'a', newline='') as file:\n",
    "            writer = csv.writer(file)\n",
    "            \n",
    "            writer.writerow([card_frontside, card_backside])"
   ]
  },
  {
   "cell_type": "code",
   "execution_count": 28,
   "metadata": {},
   "outputs": [],
   "source": [
    "ASSIMIL_PATH    = 'C:/Users/Rocha/Documents/AssimilAlemao/'"
   ]
  },
  {
   "cell_type": "code",
   "execution_count": 33,
   "metadata": {},
   "outputs": [],
   "source": [
    "lessons_list = ['4']"
   ]
  },
  {
   "cell_type": "code",
   "execution_count": 34,
   "metadata": {},
   "outputs": [],
   "source": [
    "for lesson in lessons_list:\n",
    "\n",
    "    # Transform lessons numbers into folder name\n",
    "    lesson = 'L'+(3-len(lesson))*'0'+lesson+'-German ASSIMIL'\n",
    "\n",
    "    # Grab folder path\n",
    "    folder_path = ASSIMIL_PATH+lesson\n",
    "\n",
    "    # List files in the folder\n",
    "    list_of_files = os.listdir(folder_path)\n",
    "    # print(list_of_files)\n",
    "\n",
    "    translator = Translator(from_lang='de', to_lang='en')\n",
    "\n",
    "    for file in list_of_files:\n",
    "        if file[:3]!='T00':\n",
    "            audiofile =  MP3(folder_path+'/'+file, ID3=EasyID3)\n",
    "            phrase = audiofile.get('title', ['Unknown'])[0].split('-')[-1]\n",
    "            translation = translator.translate(phrase)\n",
    "            write_csv(translation, phrase, 'anki_cards_de.csv')\n",
    "            "
   ]
  }
 ],
 "metadata": {
  "kernelspec": {
   "display_name": "base",
   "language": "python",
   "name": "python3"
  },
  "language_info": {
   "codemirror_mode": {
    "name": "ipython",
    "version": 3
   },
   "file_extension": ".py",
   "mimetype": "text/x-python",
   "name": "python",
   "nbconvert_exporter": "python",
   "pygments_lexer": "ipython3",
   "version": "3.10.9"
  }
 },
 "nbformat": 4,
 "nbformat_minor": 2
}
