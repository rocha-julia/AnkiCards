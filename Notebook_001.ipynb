{
 "cells": [
  {
   "cell_type": "code",
   "execution_count": 1,
   "metadata": {},
   "outputs": [],
   "source": [
    "import os\n",
    "from mutagen.easyid3 import EasyID3\n",
    "from mutagen.mp3 import MP3\n",
    "from mutagen.flac import FLAC"
   ]
  },
  {
   "cell_type": "code",
   "execution_count": 4,
   "metadata": {},
   "outputs": [],
   "source": [
    "ASSIMIL_PATH    = 'C:/Users/Rocha/Documents/AssimilAlemao/'"
   ]
  },
  {
   "cell_type": "code",
   "execution_count": 2,
   "metadata": {},
   "outputs": [],
   "source": [
    "lessons_list = ['1', '2']"
   ]
  },
  {
   "cell_type": "code",
   "execution_count": 6,
   "metadata": {},
   "outputs": [
    {
     "name": "stdout",
     "output_type": "stream",
     "text": [
      "['N1.mp3', 'S00-TITLE.mp3', 'S01.mp3', 'S02.mp3', 'S03.mp3', 'S04.mp3', 'S05.mp3', 'T00-TRANSLATE.mp3', 'T01.mp3', 'T02.mp3', 'T03.mp3', 'T04.mp3', 'T05.mp3']\n",
      "['N2.mp3', 'S00-TITLE.mp3', 'S01.mp3', 'S02.mp3', 'S03.mp3', 'S04.mp3', 'S05.mp3', 'T00-TRANSLATE.mp3', 'T01.mp3', 'T02.mp3', 'T03.mp3', 'T04.mp3', 'T05.mp3']\n"
     ]
    }
   ],
   "source": [
    "for lesson in lessons_list:\n",
    "\n",
    "    # Transform lessons numbers into folder name\n",
    "    lesson = 'L'+(3-len(lesson))*'0'+lesson+'-German ASSIMIL'\n",
    "\n",
    "    # Grab folder path\n",
    "    folder_path = ASSIMIL_PATH+lesson\n",
    "\n",
    "    # List files in the folder\n",
    "    list_of_files = os.listdir(folder_path)"
   ]
  },
  {
   "cell_type": "code",
   "execution_count": null,
   "metadata": {},
   "outputs": [],
   "source": []
  },
  {
   "cell_type": "code",
   "execution_count": 11,
   "metadata": {},
   "outputs": [],
   "source": [
    "list_of_files = os.listdir(ASSIMIL_PATH)"
   ]
  },
  {
   "cell_type": "code",
   "execution_count": 13,
   "metadata": {},
   "outputs": [
    {
     "data": {
      "text/plain": [
       "False"
      ]
     },
     "execution_count": 13,
     "metadata": {},
     "output_type": "execute_result"
    }
   ],
   "source": []
  }
 ],
 "metadata": {
  "kernelspec": {
   "display_name": "base",
   "language": "python",
   "name": "python3"
  },
  "language_info": {
   "codemirror_mode": {
    "name": "ipython",
    "version": 3
   },
   "file_extension": ".py",
   "mimetype": "text/x-python",
   "name": "python",
   "nbconvert_exporter": "python",
   "pygments_lexer": "ipython3",
   "version": "3.10.9"
  }
 },
 "nbformat": 4,
 "nbformat_minor": 2
}
